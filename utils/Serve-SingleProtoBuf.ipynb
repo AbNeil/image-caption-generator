{
 "cells": [
  {
   "cell_type": "code",
   "execution_count": 1,
   "metadata": {
    "collapsed": false
   },
   "outputs": [],
   "source": [
    "import tensorflow as tf\n",
    "import numpy as np"
   ]
  },
  {
   "cell_type": "code",
   "execution_count": 2,
   "metadata": {
    "collapsed": false
   },
   "outputs": [],
   "source": [
    "with open('../model/Trained_Graphs/merged_frozen_graph.pb', 'rb') as f:\n",
    "    fileContent = f.read()\n",
    "graph_def = tf.GraphDef()\n",
    "graph_def.ParseFromString(fileContent)\n",
    "tf.import_graph_def(graph_def, input_map=None, return_elements=None, name='', op_dict=None, producer_op_list=None)\n",
    "graph = tf.get_default_graph()\n",
    "tensors = [n.name for n in tf.get_default_graph().as_graph_def().node]"
   ]
  },
  {
   "cell_type": "code",
   "execution_count": 3,
   "metadata": {
    "collapsed": false
   },
   "outputs": [],
   "source": [
    "wtoidx = np.load(\"../Dataset/wordmap.npy\").tolist()\n",
    "idxtow = dict(zip(wtoidx.values(), wtoidx.keys()))\n",
    "\n",
    "with open('../model/Decoder/DecoderOutputs.txt', 'r') as fr:\n",
    "    outputs= fr.read()\n",
    "    outputs=outputs.split('\\n')[:-1]"
   ]
  },
  {
   "cell_type": "code",
   "execution_count": 4,
   "metadata": {
    "collapsed": false
   },
   "outputs": [],
   "source": [
    "def IDs_to_Words(ID_batch):\n",
    "    return [idxtow[word] for IDs in ID_batch for word in IDs]"
   ]
  },
  {
   "cell_type": "code",
   "execution_count": 5,
   "metadata": {
    "collapsed": false
   },
   "outputs": [],
   "source": [
    "def init_caption_generator():\n",
    "    sess = tf.Session()\n",
    "    return sess\n",
    "\n",
    "def generate_caption(sess, image_path):\n",
    "    in1 = graph.get_tensor_by_name(\"encoder/InputImage:0\")\n",
    "    out1 = graph.get_tensor_by_name(\"encoder/Preprocessed_JPG:0\")\n",
    "    feed_dict = {in1: image_path}\n",
    "    prepro_image = sess.run(out1, feed_dict=feed_dict)\n",
    "    in2 = graph.get_tensor_by_name(\"encoder/import/InputImage:0\")\n",
    "    outfinal = graph.get_tensor_by_name(\"encoder/import/InceptionV4/Logits/AvgPool_1a/AvgPool:0\")\n",
    "    feed_dict = {in2: prepro_image}\n",
    "    features = sess.run(outfinal, feed_dict=feed_dict)[0][0]\n",
    "    feed_dict = {graph.get_tensor_by_name(\"decoder/Input_Features:0\"): features}\n",
    "    sentence = []\n",
    "    for i,outs in enumerate(outputs):\n",
    "        sentence.append(graph.get_tensor_by_name(\"decoder/\"+outs+\":0\"))\n",
    "    prob = sess.run(sentence, feed_dict=feed_dict)\n",
    "    return \" \".join(IDs_to_Words(prob)).split(\"</S>\")[0]"
   ]
  },
  {
   "cell_type": "code",
   "execution_count": 6,
   "metadata": {
    "collapsed": false
   },
   "outputs": [],
   "source": [
    "sess = init_caption_generator()"
   ]
  },
  {
   "cell_type": "code",
   "execution_count": 7,
   "metadata": {
    "collapsed": false
   },
   "outputs": [
    {
     "name": "stdout",
     "output_type": "stream",
     "text": [
      "The slowest run took 17.49 times longer than the fastest. This could mean that an intermediate result is being cached.\n",
      "1 loop, best of 3: 192 ms per loop\n"
     ]
    }
   ],
   "source": [
    "%timeit generate_caption(sess, \"../Images/3.jpg\")"
   ]
  },
  {
   "cell_type": "code",
   "execution_count": 8,
   "metadata": {
    "collapsed": false
   },
   "outputs": [
    {
     "data": {
      "text/plain": [
       "u'a man is standing on a grassy hill overlooking a lake . '"
      ]
     },
     "execution_count": 8,
     "metadata": {},
     "output_type": "execute_result"
    }
   ],
   "source": [
    "generate_caption(sess, \"../Images/3.jpg\")"
   ]
  }
 ],
 "metadata": {
  "anaconda-cloud": {},
  "kernelspec": {
   "display_name": "Python [conda root]",
   "language": "python",
   "name": "conda-root-py"
  },
  "language_info": {
   "codemirror_mode": {
    "name": "ipython",
    "version": 2
   },
   "file_extension": ".py",
   "mimetype": "text/x-python",
   "name": "python",
   "nbconvert_exporter": "python",
   "pygments_lexer": "ipython2",
   "version": "2.7.12"
  }
 },
 "nbformat": 4,
 "nbformat_minor": 2
}
